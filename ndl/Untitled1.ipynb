{
 "cells": [
  {
   "cell_type": "code",
   "execution_count": 111,
   "id": "e64a4bc9-2670-4448-bf66-74a1c6df5acb",
   "metadata": {},
   "outputs": [],
   "source": [
    "\n",
    "\n",
    "## Import\n",
    "import torch\n",
    "import torchvision ## Contains some utilities for working with the image data\n",
    "from torchvision.datasets import MNIST\n",
    "import matplotlib.pyplot as plt\n",
    "#%matplotlib inline\n",
    "import torchvision.transforms as transforms\n",
    "from torch.utils.data import random_split\n",
    "from torch.utils.data import DataLoader\n",
    "import torch.nn.functional as F\n",
    "\n"
   ]
  },
  {
   "cell_type": "code",
   "execution_count": 112,
   "id": "60541b94-5a83-4ab1-9250-802d23f4fc6d",
   "metadata": {},
   "outputs": [],
   "source": [
    "data = MNIST(root = './', train = True, transform = transforms.ToTensor())\n",
    "train_data, validation_data = random_split(data, [50000, 10000])"
   ]
  },
  {
   "cell_type": "code",
   "execution_count": 113,
   "id": "8e5e21a6-aaa9-41fd-890b-4fd0172eb9a0",
   "metadata": {},
   "outputs": [],
   "source": [
    "batch_size = 128\n",
    "train_loader = DataLoader(train_data, batch_size, shuffle = True)\n",
    "val_loader = DataLoader(validation_data, batch_size, shuffle = False)"
   ]
  },
  {
   "cell_type": "code",
   "execution_count": 118,
   "id": "f2ed6f10-5efd-4ccc-b19b-25036edeff2d",
   "metadata": {},
   "outputs": [],
   "source": [
    "class MnistModel(nn.Module):\n",
    "    def __init__(self):\n",
    "        super().__init__()\n",
    "        self.linear = nn.Linear(input_size, num_classes)\n",
    "    \n",
    "    def forward(self, xb):\n",
    "        xb = xb.reshape(-1, 784)\n",
    "        out = self.linear(xb)\n",
    "        return(out)\n",
    "    \n",
    "    def training_step(self, batch):\n",
    "        images, labels = batch\n",
    "        out = self(images) ## Generate predictions\n",
    "        loss = F.cross_entropy(out, labels) ## Calculate the loss\n",
    "        return(loss)\n",
    "    \n",
    "    def validation_step(self, batch):\n",
    "        images, labels = batch\n",
    "        out = self(images)\n",
    "        loss = F.cross_entropy(out, labels)\n",
    "        acc = accuracy(out, labels)\n",
    "        return({'val_loss':loss, 'val_acc': acc})\n",
    "    \n",
    "    def validation_epoch_end(self, outputs):\n",
    "        batch_losses = [x['val_loss'] for x in outputs]\n",
    "        epoch_loss = torch.stack(batch_losses).mean()\n",
    "        batch_accs = [x['val_acc'] for x in outputs]\n",
    "        epoch_acc = torch.stack(batch_accs).mean()\n",
    "        return({'val_loss': epoch_loss.item(), 'val_acc' : epoch_acc.item()})\n",
    "    \n",
    "    def epoch_end(self, epoch,result):\n",
    "        print(\"Epoch [{}], val_loss: {:.4f}, val_acc: {:.4f}\".format(epoch, result['val_loss'], result['val_acc']))\n",
    "        \n",
    "    \n",
    "model = MnistModel()"
   ]
  },
  {
   "cell_type": "code",
   "execution_count": 123,
   "id": "de85f34d-85fc-49bd-8280-993eb91cac90",
   "metadata": {},
   "outputs": [],
   "source": [
    "def evaluate(model, val_loader):\n",
    "    outputs = [model.validation_step(batch) for batch in val_loader]\n",
    "    return(model.validation_epoch_end(outputs))\n",
    "\n",
    "def accuracy(outputs, labels):\n",
    "    _, preds = torch.max(outputs, dim = 1)\n",
    "    return(torch.tensor(torch.sum(preds == labels).item()/ len(preds)))\n",
    "def fit(epochs, lr, model, train_loader, val_loader, opt_func = torch.optim.SGD):\n",
    "    history = []\n",
    "    optimizer = opt_func(model.parameters(), lr)\n",
    "    for epoch in range(epochs):\n",
    "        \n",
    "        ## Training Phas\n",
    "        for batch in train_loader:\n",
    "            loss = model.training_step(batch)\n",
    "            loss.backward()\n",
    "            optimizer.step()\n",
    "            optimizer.zero_grad()\n",
    "        \n",
    "        ## Validation phase\n",
    "        result = evaluate(model, val_loader)\n",
    "        model.epoch_end(epoch, result)\n",
    "        history.append(result)\n",
    "    return(history)"
   ]
  },
  {
   "cell_type": "code",
   "execution_count": 124,
   "id": "41482618-5296-4865-a9cc-d86247681388",
   "metadata": {
    "scrolled": true
   },
   "outputs": [
    {
     "name": "stdout",
     "output_type": "stream",
     "text": [
      "Epoch [0], val_loss: 2.1988, val_acc: 0.2633\n",
      "Epoch [1], val_loss: 2.1604, val_acc: 0.3349\n",
      "Epoch [2], val_loss: 2.1235, val_acc: 0.3951\n",
      "Epoch [3], val_loss: 2.0878, val_acc: 0.4468\n",
      "Epoch [4], val_loss: 2.0534, val_acc: 0.4902\n",
      "Epoch [5], val_loss: 2.0200, val_acc: 0.5259\n",
      "Epoch [6], val_loss: 1.9877, val_acc: 0.5571\n",
      "Epoch [7], val_loss: 1.9563, val_acc: 0.5813\n",
      "Epoch [8], val_loss: 1.9259, val_acc: 0.6030\n",
      "Epoch [9], val_loss: 1.8964, val_acc: 0.6263\n"
     ]
    }
   ],
   "source": [
    "result = fit(10,1e-4, model, train_loader,val_loader)"
   ]
  },
  {
   "cell_type": "code",
   "execution_count": 125,
   "id": "96e7c538-2ffe-461a-b3db-2791c59eef30",
   "metadata": {},
   "outputs": [
    {
     "name": "stdout",
     "output_type": "stream",
     "text": [
      "[{'val_loss': 2.198805332183838, 'val_acc': 0.26325157284736633}, {'val_loss': 2.1604018211364746, 'val_acc': 0.3349485695362091}, {'val_loss': 2.123467445373535, 'val_acc': 0.3950751721858978}, {'val_loss': 2.087832450866699, 'val_acc': 0.44679588079452515}, {'val_loss': 2.053379774093628, 'val_acc': 0.4902096390724182}, {'val_loss': 2.0200271606445312, 'val_acc': 0.5259097814559937}, {'val_loss': 1.9876917600631714, 'val_acc': 0.5570608973503113}, {'val_loss': 1.956333041191101, 'val_acc': 0.581289529800415}, {'val_loss': 1.9259015321731567, 'val_acc': 0.6030458807945251}, {'val_loss': 1.8963555097579956, 'val_acc': 0.6262856125831604}]\n"
     ]
    }
   ],
   "source": [
    "print(result)"
   ]
  },
  {
   "cell_type": "code",
   "execution_count": null,
   "id": "6c4a46d4-3d6c-445e-82e3-333e7879a34c",
   "metadata": {},
   "outputs": [],
   "source": []
  }
 ],
 "metadata": {
  "kernelspec": {
   "display_name": "Python 3 (ipykernel)",
   "language": "python",
   "name": "python3"
  },
  "language_info": {
   "codemirror_mode": {
    "name": "ipython",
    "version": 3
   },
   "file_extension": ".py",
   "mimetype": "text/x-python",
   "name": "python",
   "nbconvert_exporter": "python",
   "pygments_lexer": "ipython3",
   "version": "3.12.8"
  }
 },
 "nbformat": 4,
 "nbformat_minor": 5
}
